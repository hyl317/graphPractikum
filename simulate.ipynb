{
 "cells": [
  {
   "cell_type": "markdown",
   "metadata": {},
   "source": [
    "# Simulate R-map with various sample size and (combinations of) circular/clocklike"
   ]
  },
  {
   "cell_type": "code",
   "execution_count": 1,
   "metadata": {},
   "outputs": [],
   "source": [
    "import os\n",
    "import sys\n",
    "sys.path.insert(0, \"/Users/hyl/Desktop/W21/project/Erdbeermet\")\n",
    "from src.erdbeermet.simulation import simulate"
   ]
  },
  {
   "cell_type": "code",
   "execution_count": 3,
   "metadata": {},
   "outputs": [],
   "source": [
    "numRep = 25000\n",
    "for n in [6, 10, 15, 20, 25]:\n",
    "    for i in range(1, 1+numRep):\n",
    "        \n",
    "        if not os.path.isdir(f'./simulations/N{n}/default'):\n",
    "            os.mkdir(f'./simulations/N{n}/default')\n",
    "\n",
    "        if not os.path.isdir(f'./simulations/N{n}/circ'):\n",
    "            os.mkdir(f'./simulations/N{n}/circ')\n",
    "        \n",
    "        if not os.path.isdir(f'./simulations/N{n}/clock'):\n",
    "            os.mkdir(f'./simulations/N{n}/clock')\n",
    "\n",
    "        if not os.path.isdir(f'./simulations/N{n}/circ_clock'):\n",
    "            os.mkdir(f'./simulations/N{n}/circ_clock')\n",
    "\n",
    "        scenario = simulate(n, branching_prob=0.0, circular=False, clocklike=False)\n",
    "        scenario.write_history(f'./simulations/N{n}/default/hist_rep{i}.txt')\n",
    "\n",
    "        scenario = simulate(n, branching_prob=0.0, circular=True, clocklike=False)\n",
    "        scenario.write_history(f'./simulations/N{n}/circ/hist_rep{i}.txt')\n",
    "\n",
    "        scenario = simulate(n, branching_prob=0.0, circular=False, clocklike=True)\n",
    "        scenario.write_history(f'./simulations/N{n}/clock/hist_rep{i}.txt')\n",
    "\n",
    "        scenario = simulate(n, branching_prob=0.0, circular=True, clocklike=True)\n",
    "        scenario.write_history(f'./simulations/N{n}/circ_clock/hist_rep{i}.txt')\n",
    "\n",
    "\n"
   ]
  },
  {
   "cell_type": "code",
   "execution_count": 2,
   "metadata": {},
   "outputs": [],
   "source": [
    "import multiprocessing as mp\n",
    "def multi_run(fun, prms, processes = 4, output=False):\n",
    "    \"\"\"Implementation of running in Parallel.\n",
    "    fun: Function\n",
    "    prms: The Parameter Files\n",
    "    processes: How many Processes to use\"\"\"\n",
    "    if output:\n",
    "        print(f\"Running {len(prms)} total jobs; {processes} in parallel.\")\n",
    "    \n",
    "    if len(prms)>1:\n",
    "        if output:\n",
    "            print(\"Starting Pool of multiple workers...\")    \n",
    "        with mp.Pool(processes = processes) as pool:\n",
    "            results = pool.starmap(fun, prms)\n",
    "    elif len(prms)==1:\n",
    "        if output:\n",
    "            print(\"Running single process...\")\n",
    "        results = fun(*prms[0])\n",
    "    else:\n",
    "        raise RuntimeWarning(\"Nothing to run! Please check input.\")\n",
    "    return results"
   ]
  },
  {
   "cell_type": "code",
   "execution_count": 2,
   "metadata": {},
   "outputs": [
    {
     "name": "stderr",
     "output_type": "stream",
     "text": [
      "100%|██████████| 25000/25000 [17:24<00:00, 23.94it/s]\n",
      "100%|██████████| 25000/25000 [17:35<00:00, 23.69it/s]\n",
      "100%|██████████| 25000/25000 [10:46<00:00, 38.65it/s]\n",
      "100%|██████████| 25000/25000 [10:51<00:00, 38.35it/s]\n"
     ]
    }
   ],
   "source": [
    "from src.erdbeermet.simulation import load\n",
    "from src.erdbeermet.recognition import recognize, recognize_and_compare\n",
    "from tqdm import tqdm\n",
    "import pickle\n",
    "import os\n",
    "\n",
    "# prms = [[load(f'./simulations/N20/default/hist_rep{r}.txt').D, True, False] for r in range(1,51)]\n",
    "# multi_run(recognize, prms, processes=4)\n",
    "\n",
    "for mode in ['default', 'clock', 'circ', 'circ_clock']:\n",
    "    runtime = []\n",
    "    common_triple = []\n",
    "    failed_index = []\n",
    "    failed_tree = []\n",
    "    init_leaves_recovered = []\n",
    "\n",
    "    basepath = f'./simulations/N6/{mode}'\n",
    "\n",
    "    outdir = f'{basepath}/results/wp3.2_4_leaves'\n",
    "    if not os.path.isdir(outdir):\n",
    "        os.makedirs(outdir)\n",
    "\n",
    "    for r in tqdm(range(1,25000+1)):\n",
    "        scenario = load(f'{basepath}/hist_rep{r}.txt')\n",
    "        try:\n",
    "            return_val = recognize_and_compare(scenario, use_unknown_core_leaves=4, first_candidate_only=True, print_info=False)\n",
    "        except:\n",
    "            print(f'an error occured for {r}')\n",
    "            continue\n",
    "        if len(return_val) == 2:\n",
    "            print('recognition failed')\n",
    "            recognition_tree, t = return_val\n",
    "            failed_index.append(r)\n",
    "            failed_tree.append(recognition_tree)\n",
    "        else:\n",
    "            recognition_tree, t, count, init_quad_recovered = return_val\n",
    "            runtime.append(t)\n",
    "            common_triple.append(count)\n",
    "            init_leaves_recovered.append(init_quad_recovered)\n",
    "\n",
    "    # dump the recognition results\n",
    "    pickle.dump(failed_index, open(f'{outdir}/failed_index', 'wb'))\n",
    "    pickle.dump(failed_tree, open(f'{outdir}/failed_tree', 'wb'))\n",
    "    pickle.dump(runtime, open(f'{outdir}/runtime', 'wb'))\n",
    "    pickle.dump(common_triple, open(f'{outdir}/common_triple', 'wb'))\n",
    "    pickle.dump(init_leaves_recovered, open(f'{outdir}/init_leaves_recovered', 'wb'))\n",
    "\n",
    "\n",
    "\n",
    "\n",
    "\n",
    "\n"
   ]
  },
  {
   "cell_type": "code",
   "execution_count": 2,
   "metadata": {},
   "outputs": [
    {
     "name": "stderr",
     "output_type": "stream",
     "text": [
      "  0%|          | 0/10 [00:00<?, ?it/s]\n"
     ]
    },
    {
     "ename": "NameError",
     "evalue": "name 'r' is not defined",
     "output_type": "error",
     "traceback": [
      "\u001b[0;31m---------------------------------------------------------------------------\u001b[0m",
      "\u001b[0;31mNameError\u001b[0m                                 Traceback (most recent call last)",
      "\u001b[0;32m/var/folders/c1/pggcyjhj6q36ld0kzgbnvc9w0000gn/T/ipykernel_16942/3602736625.py\u001b[0m in \u001b[0;36m<module>\u001b[0;34m\u001b[0m\n\u001b[1;32m      5\u001b[0m \u001b[0;34m\u001b[0m\u001b[0m\n\u001b[1;32m      6\u001b[0m \u001b[0;32mfor\u001b[0m \u001b[0mi\u001b[0m \u001b[0;32min\u001b[0m \u001b[0mtqdm\u001b[0m\u001b[0;34m(\u001b[0m\u001b[0mrange\u001b[0m\u001b[0;34m(\u001b[0m\u001b[0;36m1\u001b[0m\u001b[0;34m,\u001b[0m \u001b[0;36m11\u001b[0m\u001b[0;34m)\u001b[0m\u001b[0;34m)\u001b[0m\u001b[0;34m:\u001b[0m\u001b[0;34m\u001b[0m\u001b[0;34m\u001b[0m\u001b[0m\n\u001b[0;32m----> 7\u001b[0;31m     \u001b[0mscenario\u001b[0m \u001b[0;34m=\u001b[0m \u001b[0mload\u001b[0m\u001b[0;34m(\u001b[0m\u001b[0;34mf'./simulations/N10/default/hist_rep{r}.txt'\u001b[0m\u001b[0;34m)\u001b[0m\u001b[0;34m\u001b[0m\u001b[0;34m\u001b[0m\u001b[0m\n\u001b[0m\u001b[1;32m      8\u001b[0m     \u001b[0;32mtry\u001b[0m\u001b[0;34m:\u001b[0m\u001b[0;34m\u001b[0m\u001b[0;34m\u001b[0m\u001b[0m\n\u001b[1;32m      9\u001b[0m         \u001b[0mreturn_val\u001b[0m \u001b[0;34m=\u001b[0m \u001b[0mrecognize_and_compare\u001b[0m\u001b[0;34m(\u001b[0m\u001b[0mscenario\u001b[0m\u001b[0;34m,\u001b[0m \u001b[0muse_spikes\u001b[0m\u001b[0;34m=\u001b[0m\u001b[0;32mTrue\u001b[0m\u001b[0;34m,\u001b[0m \u001b[0mfirst_candidate_only\u001b[0m\u001b[0;34m=\u001b[0m\u001b[0;32mTrue\u001b[0m\u001b[0;34m,\u001b[0m \u001b[0mprint_info\u001b[0m\u001b[0;34m=\u001b[0m\u001b[0;32mFalse\u001b[0m\u001b[0;34m)\u001b[0m\u001b[0;34m\u001b[0m\u001b[0;34m\u001b[0m\u001b[0m\n",
      "\u001b[0;31mNameError\u001b[0m: name 'r' is not defined"
     ]
    }
   ],
   "source": [
    "# just a test for use_spikes=true\n",
    "from src.erdbeermet.simulation import load\n",
    "from src.erdbeermet.recognition import recognize_and_compare\n",
    "from tqdm import tqdm\n",
    "\n",
    "for r in tqdm(range(1, 11)):\n",
    "    scenario = load(f'./simulations/N10/default/hist_rep{r}.txt')\n",
    "    try:\n",
    "        return_val = recognize_and_compare(scenario, use_spikes=True, first_candidate_only=True, print_info=False)\n",
    "    except:\n",
    "        print(f'an error occured for {r}')\n",
    "        continue\n",
    "    if len(return_val) == 2:\n",
    "        print('recognition failed')\n",
    "        recognition_tree, t = return_val\n",
    "    else:\n",
    "        recognition_tree, t, count, init_quad_recovered = return_val\n",
    "        print(f'common triples: {count}')\n",
    "        print(f'initial quad recovered? {init_quad_recovered}')"
   ]
  }
 ],
 "metadata": {
  "interpreter": {
   "hash": "31f2aee4e71d21fbe5cf8b01ff0e069b9275f58929596ceb00d14d90e3e16cd6"
  },
  "kernelspec": {
   "display_name": "Python 3.8.2 64-bit",
   "language": "python",
   "name": "python3"
  },
  "language_info": {
   "codemirror_mode": {
    "name": "ipython",
    "version": 3
   },
   "file_extension": ".py",
   "mimetype": "text/x-python",
   "name": "python",
   "nbconvert_exporter": "python",
   "pygments_lexer": "ipython3",
   "version": "3.9.6"
  },
  "orig_nbformat": 4
 },
 "nbformat": 4,
 "nbformat_minor": 2
}
