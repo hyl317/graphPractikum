{
 "cells": [
  {
   "cell_type": "markdown",
   "metadata": {},
   "source": [
    "# Simulate R-map with various sample size and (combinations of) circular/clocklike"
   ]
  },
  {
   "cell_type": "code",
   "execution_count": 1,
   "metadata": {},
   "outputs": [],
   "source": [
    "import os\n",
    "import sys\n",
    "sys.path.insert(0, \"/Users/hyl/Desktop/W21/project/Erdbeermet\")\n",
    "from src.erdbeermet.simulation import simulate"
   ]
  },
  {
   "cell_type": "code",
   "execution_count": 3,
   "metadata": {},
   "outputs": [],
   "source": [
    "numRep = 25000\n",
    "for n in [6, 10, 15, 20, 25]:\n",
    "    for i in range(1, 1+numRep):\n",
    "        \n",
    "        if not os.path.isdir(f'./simulations/N{n}/default'):\n",
    "            os.mkdir(f'./simulations/N{n}/default')\n",
    "\n",
    "        if not os.path.isdir(f'./simulations/N{n}/circ'):\n",
    "            os.mkdir(f'./simulations/N{n}/circ')\n",
    "        \n",
    "        if not os.path.isdir(f'./simulations/N{n}/clock'):\n",
    "            os.mkdir(f'./simulations/N{n}/clock')\n",
    "\n",
    "        if not os.path.isdir(f'./simulations/N{n}/circ_clock'):\n",
    "            os.mkdir(f'./simulations/N{n}/circ_clock')\n",
    "\n",
    "        scenario = simulate(n, branching_prob=0.0, circular=False, clocklike=False)\n",
    "        scenario.write_history(f'./simulations/N{n}/default/hist_rep{i}.txt')\n",
    "\n",
    "        scenario = simulate(n, branching_prob=0.0, circular=True, clocklike=False)\n",
    "        scenario.write_history(f'./simulations/N{n}/circ/hist_rep{i}.txt')\n",
    "\n",
    "        scenario = simulate(n, branching_prob=0.0, circular=False, clocklike=True)\n",
    "        scenario.write_history(f'./simulations/N{n}/clock/hist_rep{i}.txt')\n",
    "\n",
    "        scenario = simulate(n, branching_prob=0.0, circular=True, clocklike=True)\n",
    "        scenario.write_history(f'./simulations/N{n}/circ_clock/hist_rep{i}.txt')\n",
    "\n",
    "\n"
   ]
  },
  {
   "cell_type": "code",
   "execution_count": 2,
   "metadata": {},
   "outputs": [],
   "source": [
    "import multiprocessing as mp\n",
    "def multi_run(fun, prms, processes = 4, output=False):\n",
    "    \"\"\"Implementation of running in Parallel.\n",
    "    fun: Function\n",
    "    prms: The Parameter Files\n",
    "    processes: How many Processes to use\"\"\"\n",
    "    if output:\n",
    "        print(f\"Running {len(prms)} total jobs; {processes} in parallel.\")\n",
    "    \n",
    "    if len(prms)>1:\n",
    "        if output:\n",
    "            print(\"Starting Pool of multiple workers...\")    \n",
    "        with mp.Pool(processes = processes) as pool:\n",
    "            results = pool.starmap(fun, prms)\n",
    "    elif len(prms)==1:\n",
    "        if output:\n",
    "            print(\"Running single process...\")\n",
    "        results = fun(*prms[0])\n",
    "    else:\n",
    "        raise RuntimeWarning(\"Nothing to run! Please check input.\")\n",
    "    return results"
   ]
  },
  {
   "cell_type": "markdown",
   "metadata": {},
   "source": [
    "# WP2 Original Algorithm"
   ]
  },
  {
   "cell_type": "code",
   "execution_count": null,
   "metadata": {},
   "outputs": [],
   "source": [
    "from src.erdbeermet.simulation import load\n",
    "from src.erdbeermet.recognition import recognize, recognize_and_compare\n",
    "from tqdm import tqdm\n",
    "import pickle\n",
    "import os\n",
    "\n",
    "# prms = [[load(f'./simulations/N20/default/hist_rep{r}.txt').D, True, False] for r in range(1,51)]\n",
    "# multi_run(recognize, prms, processes=4)\n",
    "\n",
    "for mode in ['default', 'clock', 'circ', 'circ_clock']:\n",
    "    runtime = []\n",
    "    common_triple = []\n",
    "    failed_index = []\n",
    "    failed_tree = []\n",
    "    init_leaves_recovered = []\n",
    "\n",
    "    basepath = f'./simulations/N8/{mode}'\n",
    "\n",
    "    outdir = f'{basepath}/results/wp2'\n",
    "    if not os.path.isdir(outdir):\n",
    "        os.makedirs(outdir)\n",
    "\n",
    "    for r in tqdm(range(1,25000+1)):\n",
    "        scenario = load(f'{basepath}/hist_rep{r}.txt')\n",
    "        try:\n",
    "            return_val = recognize_and_compare(scenario, first_candidate_only=True, print_info=False)\n",
    "        except:\n",
    "            print(f'an error occured for {r}')\n",
    "            failed_index.append(r)\n",
    "            failed_tree.append(None)\n",
    "            continue\n",
    "        if len(return_val) == 2:\n",
    "            print('recognition failed')\n",
    "            recognition_tree, t = return_val\n",
    "            failed_index.append(r)\n",
    "            failed_tree.append(recognition_tree)\n",
    "        else:\n",
    "            recognition_tree, t, count, init_quad_recovered = return_val\n",
    "            runtime.append(t)\n",
    "            common_triple.append(count)\n",
    "            init_leaves_recovered.append(init_quad_recovered)\n",
    "\n",
    "    # dump the recognition results\n",
    "    pickle.dump(failed_index, open(f'{outdir}/failed_index', 'wb'))\n",
    "    pickle.dump(failed_tree, open(f'{outdir}/failed_tree', 'wb'))\n",
    "    pickle.dump(runtime, open(f'{outdir}/runtime', 'wb'))\n",
    "    pickle.dump(common_triple, open(f'{outdir}/common_triple', 'wb'))\n",
    "    pickle.dump(init_leaves_recovered, open(f'{outdir}/init_leaves_recovered', 'wb'))\n",
    "\n"
   ]
  },
  {
   "cell_type": "markdown",
   "metadata": {},
   "source": [
    "# WP3: Blocked Leaf"
   ]
  },
  {
   "cell_type": "code",
   "execution_count": 1,
   "metadata": {},
   "outputs": [
    {
     "name": "stderr",
     "output_type": "stream",
     "text": [
      "  0%|          | 59/25000 [00:16<1:57:11,  3.55it/s]"
     ]
    },
    {
     "name": "stdout",
     "output_type": "stream",
     "text": [
      "recognition failed\n"
     ]
    },
    {
     "name": "stderr",
     "output_type": "stream",
     "text": [
      "  3%|▎         | 722/25000 [03:27<1:56:09,  3.48it/s]"
     ]
    },
    {
     "name": "stdout",
     "output_type": "stream",
     "text": [
      "recognition failed\n"
     ]
    },
    {
     "name": "stderr",
     "output_type": "stream",
     "text": [
      "  4%|▍         | 1034/25000 [04:57<1:53:53,  3.51it/s]"
     ]
    },
    {
     "name": "stdout",
     "output_type": "stream",
     "text": [
      "recognition failed\n"
     ]
    },
    {
     "name": "stderr",
     "output_type": "stream",
     "text": [
      "  5%|▌         | 1318/25000 [06:19<1:56:15,  3.39it/s]"
     ]
    },
    {
     "name": "stdout",
     "output_type": "stream",
     "text": [
      "recognition failed\n"
     ]
    },
    {
     "name": "stderr",
     "output_type": "stream",
     "text": [
      "  5%|▌         | 1332/25000 [06:23<1:55:31,  3.41it/s]"
     ]
    },
    {
     "name": "stdout",
     "output_type": "stream",
     "text": [
      "recognition failed\n"
     ]
    },
    {
     "name": "stderr",
     "output_type": "stream",
     "text": [
      "  9%|▊         | 2156/25000 [2:26:27<1:48:40,  3.50it/s]    "
     ]
    },
    {
     "name": "stdout",
     "output_type": "stream",
     "text": [
      "recognition failed\n"
     ]
    },
    {
     "name": "stderr",
     "output_type": "stream",
     "text": [
      " 29%|██▉       | 7227/25000 [2:50:41<1:24:49,  3.49it/s]"
     ]
    },
    {
     "name": "stdout",
     "output_type": "stream",
     "text": [
      "recognition failed\n"
     ]
    },
    {
     "name": "stderr",
     "output_type": "stream",
     "text": [
      " 30%|███       | 7515/25000 [2:52:04<1:24:25,  3.45it/s]"
     ]
    },
    {
     "name": "stdout",
     "output_type": "stream",
     "text": [
      "recognition failed\n"
     ]
    },
    {
     "name": "stderr",
     "output_type": "stream",
     "text": [
      " 33%|███▎      | 8217/25000 [2:55:27<1:20:17,  3.48it/s]"
     ]
    },
    {
     "name": "stdout",
     "output_type": "stream",
     "text": [
      "recognition failed\n"
     ]
    },
    {
     "name": "stderr",
     "output_type": "stream",
     "text": [
      " 37%|███▋      | 9172/25000 [3:00:02<1:15:41,  3.49it/s]"
     ]
    },
    {
     "name": "stdout",
     "output_type": "stream",
     "text": [
      "recognition failed\n"
     ]
    },
    {
     "name": "stderr",
     "output_type": "stream",
     "text": [
      " 43%|████▎     | 10771/25000 [3:07:42<1:08:38,  3.45it/s]"
     ]
    },
    {
     "name": "stdout",
     "output_type": "stream",
     "text": [
      "recognition failed\n"
     ]
    },
    {
     "name": "stderr",
     "output_type": "stream",
     "text": [
      " 47%|████▋     | 11716/25000 [3:12:14<1:03:21,  3.49it/s]"
     ]
    },
    {
     "name": "stdout",
     "output_type": "stream",
     "text": [
      "recognition failed\n"
     ]
    },
    {
     "name": "stderr",
     "output_type": "stream",
     "text": [
      " 47%|████▋     | 11718/25000 [3:12:15<1:03:33,  3.48it/s]"
     ]
    },
    {
     "name": "stdout",
     "output_type": "stream",
     "text": [
      "recognition failed\n"
     ]
    },
    {
     "name": "stderr",
     "output_type": "stream",
     "text": [
      " 63%|██████▎   | 15640/25000 [3:31:02<44:33,  3.50it/s]  "
     ]
    },
    {
     "name": "stdout",
     "output_type": "stream",
     "text": [
      "recognition failed\n"
     ]
    },
    {
     "name": "stderr",
     "output_type": "stream",
     "text": [
      " 64%|██████▍   | 16064/25000 [3:33:04<42:50,  3.48it/s]"
     ]
    },
    {
     "name": "stdout",
     "output_type": "stream",
     "text": [
      "recognition failed\n"
     ]
    },
    {
     "name": "stderr",
     "output_type": "stream",
     "text": [
      " 70%|██████▉   | 17375/25000 [3:39:21<36:12,  3.51it/s]"
     ]
    },
    {
     "name": "stdout",
     "output_type": "stream",
     "text": [
      "recognition failed\n"
     ]
    },
    {
     "name": "stderr",
     "output_type": "stream",
     "text": [
      " 74%|███████▍  | 18514/25000 [3:44:51<31:01,  3.48it/s]"
     ]
    },
    {
     "name": "stdout",
     "output_type": "stream",
     "text": [
      "recognition failed\n"
     ]
    },
    {
     "name": "stderr",
     "output_type": "stream",
     "text": [
      " 75%|███████▌  | 18845/25000 [3:46:26<29:53,  3.43it/s]"
     ]
    },
    {
     "name": "stdout",
     "output_type": "stream",
     "text": [
      "recognition failed\n"
     ]
    },
    {
     "name": "stderr",
     "output_type": "stream",
     "text": [
      " 80%|███████▉  | 19922/25000 [3:51:36<24:38,  3.44it/s]"
     ]
    },
    {
     "name": "stdout",
     "output_type": "stream",
     "text": [
      "recognition failed\n"
     ]
    },
    {
     "name": "stderr",
     "output_type": "stream",
     "text": [
      " 87%|████████▋ | 21698/25000 [4:00:08<16:05,  3.42it/s]"
     ]
    },
    {
     "name": "stdout",
     "output_type": "stream",
     "text": [
      "recognition failed\n"
     ]
    },
    {
     "name": "stderr",
     "output_type": "stream",
     "text": [
      " 90%|█████████ | 22538/25000 [4:04:10<11:41,  3.51it/s]"
     ]
    },
    {
     "name": "stdout",
     "output_type": "stream",
     "text": [
      "recognition failed\n"
     ]
    },
    {
     "name": "stderr",
     "output_type": "stream",
     "text": [
      "100%|██████████| 25000/25000 [4:16:03<00:00,  1.63it/s]\n",
      "  9%|▉         | 2314/25000 [11:01<1:47:51,  3.51it/s]"
     ]
    },
    {
     "name": "stdout",
     "output_type": "stream",
     "text": [
      "recognition failed\n"
     ]
    },
    {
     "name": "stderr",
     "output_type": "stream",
     "text": [
      " 13%|█▎        | 3276/25000 [15:35<1:43:27,  3.50it/s]"
     ]
    },
    {
     "name": "stdout",
     "output_type": "stream",
     "text": [
      "recognition failed\n"
     ]
    },
    {
     "name": "stderr",
     "output_type": "stream",
     "text": [
      " 19%|█▊        | 4631/25000 [22:02<1:37:03,  3.50it/s]"
     ]
    },
    {
     "name": "stdout",
     "output_type": "stream",
     "text": [
      "recognition failed\n"
     ]
    },
    {
     "name": "stderr",
     "output_type": "stream",
     "text": [
      " 22%|██▏       | 5602/25000 [26:39<1:31:56,  3.52it/s]"
     ]
    },
    {
     "name": "stdout",
     "output_type": "stream",
     "text": [
      "recognition failed\n"
     ]
    },
    {
     "name": "stderr",
     "output_type": "stream",
     "text": [
      " 31%|███       | 7807/25000 [37:07<1:22:10,  3.49it/s]"
     ]
    },
    {
     "name": "stdout",
     "output_type": "stream",
     "text": [
      "recognition failed\n"
     ]
    },
    {
     "name": "stderr",
     "output_type": "stream",
     "text": [
      " 49%|████▉     | 12215/25000 [57:58<1:00:24,  3.53it/s]"
     ]
    },
    {
     "name": "stdout",
     "output_type": "stream",
     "text": [
      "recognition failed\n"
     ]
    },
    {
     "name": "stderr",
     "output_type": "stream",
     "text": [
      " 62%|██████▏   | 15604/25000 [1:14:01<44:27,  3.52it/s]"
     ]
    },
    {
     "name": "stdout",
     "output_type": "stream",
     "text": [
      "recognition failed\n"
     ]
    },
    {
     "name": "stderr",
     "output_type": "stream",
     "text": [
      " 65%|██████▌   | 16334/25000 [1:17:29<41:19,  3.49it/s]"
     ]
    },
    {
     "name": "stdout",
     "output_type": "stream",
     "text": [
      "recognition failed\n"
     ]
    },
    {
     "name": "stderr",
     "output_type": "stream",
     "text": [
      " 67%|██████▋   | 16638/25000 [1:18:56<39:52,  3.49it/s]"
     ]
    },
    {
     "name": "stdout",
     "output_type": "stream",
     "text": [
      "recognition failed\n"
     ]
    },
    {
     "name": "stderr",
     "output_type": "stream",
     "text": [
      " 71%|███████▏  | 17862/25000 [10:14:33<34:21,  3.46it/s]     "
     ]
    },
    {
     "name": "stdout",
     "output_type": "stream",
     "text": [
      "recognition failed\n"
     ]
    },
    {
     "name": "stderr",
     "output_type": "stream",
     "text": [
      " 73%|███████▎  | 18146/25000 [10:15:54<31:37,  3.61it/s]"
     ]
    },
    {
     "name": "stdout",
     "output_type": "stream",
     "text": [
      "recognition failed\n"
     ]
    },
    {
     "name": "stderr",
     "output_type": "stream",
     "text": [
      " 77%|███████▋  | 19214/25000 [10:20:58<27:21,  3.52it/s]"
     ]
    },
    {
     "name": "stdout",
     "output_type": "stream",
     "text": [
      "recognition failed\n"
     ]
    },
    {
     "name": "stderr",
     "output_type": "stream",
     "text": [
      " 77%|███████▋  | 19228/25000 [10:21:02<26:26,  3.64it/s]"
     ]
    },
    {
     "name": "stdout",
     "output_type": "stream",
     "text": [
      "recognition failed\n"
     ]
    },
    {
     "name": "stderr",
     "output_type": "stream",
     "text": [
      " 81%|████████  | 20295/25000 [10:26:12<22:56,  3.42it/s]"
     ]
    },
    {
     "name": "stdout",
     "output_type": "stream",
     "text": [
      "recognition failed\n"
     ]
    },
    {
     "name": "stderr",
     "output_type": "stream",
     "text": [
      " 83%|████████▎ | 20630/25000 [10:27:50<21:17,  3.42it/s]"
     ]
    },
    {
     "name": "stdout",
     "output_type": "stream",
     "text": [
      "recognition failed\n"
     ]
    },
    {
     "name": "stderr",
     "output_type": "stream",
     "text": [
      " 92%|█████████▏| 23112/25000 [10:39:56<08:44,  3.60it/s]"
     ]
    },
    {
     "name": "stdout",
     "output_type": "stream",
     "text": [
      "recognition failed\n"
     ]
    },
    {
     "name": "stderr",
     "output_type": "stream",
     "text": [
      " 94%|█████████▍| 23536/25000 [10:53:23<06:53,  3.54it/s]    "
     ]
    },
    {
     "name": "stdout",
     "output_type": "stream",
     "text": [
      "recognition failed\n"
     ]
    },
    {
     "name": "stderr",
     "output_type": "stream",
     "text": [
      " 94%|█████████▍| 23623/25000 [11:05:34<06:26,  3.57it/s]    "
     ]
    },
    {
     "name": "stdout",
     "output_type": "stream",
     "text": [
      "recognition failed\n"
     ]
    },
    {
     "name": "stderr",
     "output_type": "stream",
     "text": [
      "100%|██████████| 25000/25000 [11:13:38<00:00,  1.62s/it]   \n",
      " 22%|██▏       | 5395/25000 [26:07<1:34:37,  3.45it/s]"
     ]
    }
   ],
   "source": [
    "from src.erdbeermet.simulation import load\n",
    "from src.erdbeermet.recognition import recognize, recognize_and_compare\n",
    "from tqdm import tqdm\n",
    "import pickle\n",
    "import os\n",
    "\n",
    "# prms = [[load(f'./simulations/N20/default/hist_rep{r}.txt').D, True, False] for r in range(1,51)]\n",
    "# multi_run(recognize, prms, processes=4)\n",
    "\n",
    "for mode in ['default', 'clock', 'circ', 'circ_clock']:\n",
    "    runtime = []\n",
    "    common_triple = []\n",
    "    failed_index = []\n",
    "    failed_tree = []\n",
    "    init_leaves_recovered = []\n",
    "\n",
    "    basepath = f'./simulations/N10/{mode}'\n",
    "\n",
    "    outdir = f'{basepath}/results/wp3.1_3_leaves'\n",
    "    if not os.path.isdir(outdir):\n",
    "        os.makedirs(outdir)\n",
    "\n",
    "    for r in tqdm(range(1,25000+1)):\n",
    "        scenario = load(f'{basepath}/hist_rep{r}.txt')\n",
    "        try:\n",
    "            return_val = recognize_and_compare(scenario, B=[0,1,2],first_candidate_only=True, print_info=False)\n",
    "        except:\n",
    "            print(f'an error occured for {r}')\n",
    "            failed_index.append(r)\n",
    "            failed_tree.append(None)\n",
    "            continue\n",
    "        if len(return_val) == 2:\n",
    "            print('recognition failed')\n",
    "            recognition_tree, t = return_val\n",
    "            failed_index.append(r)\n",
    "            failed_tree.append(recognition_tree)\n",
    "        else:\n",
    "            recognition_tree, t, count, init_quad_recovered = return_val\n",
    "            runtime.append(t)\n",
    "            common_triple.append(count)\n",
    "            init_leaves_recovered.append(init_quad_recovered)\n",
    "\n",
    "    # dump the recognition results\n",
    "    pickle.dump(failed_index, open(f'{outdir}/failed_index', 'wb'))\n",
    "    pickle.dump(failed_tree, open(f'{outdir}/failed_tree', 'wb'))\n",
    "    pickle.dump(runtime, open(f'{outdir}/runtime', 'wb'))\n",
    "    pickle.dump(common_triple, open(f'{outdir}/common_triple', 'wb'))\n",
    "    pickle.dump(init_leaves_recovered, open(f'{outdir}/init_leaves_recovered', 'wb'))\n",
    "\n",
    "\n",
    "\n",
    "\n",
    "\n",
    "\n"
   ]
  },
  {
   "cell_type": "code",
   "execution_count": null,
   "metadata": {},
   "outputs": [],
   "source": []
  },
  {
   "cell_type": "code",
   "execution_count": 7,
   "metadata": {},
   "outputs": [
    {
     "name": "stdout",
     "output_type": "stream",
     "text": [
      "0.5248609944397776\n"
     ]
    }
   ],
   "source": [
    "import numpy as np\n",
    "print(np.mean(init_leaves_recovered))"
   ]
  },
  {
   "cell_type": "markdown",
   "metadata": {},
   "source": [
    "# WP4: Smallest Spike"
   ]
  },
  {
   "cell_type": "code",
   "execution_count": 1,
   "metadata": {},
   "outputs": [
    {
     "name": "stderr",
     "output_type": "stream",
     "text": [
      "  1%|          | 242/25000 [01:09<1:57:27,  3.51it/s]"
     ]
    },
    {
     "name": "stdout",
     "output_type": "stream",
     "text": [
      "recognition failed\n"
     ]
    },
    {
     "name": "stderr",
     "output_type": "stream",
     "text": [
      "  1%|▏         | 342/25000 [01:38<1:56:43,  3.52it/s]"
     ]
    },
    {
     "name": "stdout",
     "output_type": "stream",
     "text": [
      "recognition failed\n"
     ]
    },
    {
     "name": "stderr",
     "output_type": "stream",
     "text": [
      "  3%|▎         | 855/25000 [04:06<1:55:51,  3.47it/s]"
     ]
    },
    {
     "name": "stdout",
     "output_type": "stream",
     "text": [
      "recognition failed\n"
     ]
    },
    {
     "name": "stderr",
     "output_type": "stream",
     "text": [
      " 12%|█▏        | 2889/25000 [13:52<1:46:04,  3.47it/s]"
     ]
    },
    {
     "name": "stdout",
     "output_type": "stream",
     "text": [
      "recognition failed\n"
     ]
    },
    {
     "name": "stderr",
     "output_type": "stream",
     "text": [
      " 18%|█▊        | 4379/25000 [21:02<1:38:40,  3.48it/s]"
     ]
    },
    {
     "name": "stdout",
     "output_type": "stream",
     "text": [
      "recognition failed\n"
     ]
    },
    {
     "name": "stderr",
     "output_type": "stream",
     "text": [
      " 21%|██▏       | 5344/25000 [25:44<1:35:05,  3.45it/s]"
     ]
    },
    {
     "name": "stdout",
     "output_type": "stream",
     "text": [
      "recognition failed\n"
     ]
    },
    {
     "name": "stderr",
     "output_type": "stream",
     "text": [
      " 23%|██▎       | 5809/25000 [27:59<1:32:15,  3.47it/s]"
     ]
    },
    {
     "name": "stdout",
     "output_type": "stream",
     "text": [
      "recognition failed\n"
     ]
    },
    {
     "name": "stderr",
     "output_type": "stream",
     "text": [
      " 31%|███▏      | 7843/25000 [37:49<1:22:58,  3.45it/s]"
     ]
    },
    {
     "name": "stdout",
     "output_type": "stream",
     "text": [
      "recognition failed\n"
     ]
    },
    {
     "name": "stderr",
     "output_type": "stream",
     "text": [
      " 37%|███▋      | 9172/25000 [44:18<1:16:00,  3.47it/s]"
     ]
    },
    {
     "name": "stdout",
     "output_type": "stream",
     "text": [
      "recognition failed\n"
     ]
    },
    {
     "name": "stderr",
     "output_type": "stream",
     "text": [
      " 40%|████      | 10124/25000 [48:52<1:11:25,  3.47it/s]"
     ]
    },
    {
     "name": "stdout",
     "output_type": "stream",
     "text": [
      "recognition failed\n"
     ]
    },
    {
     "name": "stderr",
     "output_type": "stream",
     "text": [
      " 43%|████▎     | 10771/25000 [51:58<1:08:18,  3.47it/s]"
     ]
    },
    {
     "name": "stdout",
     "output_type": "stream",
     "text": [
      "recognition failed\n"
     ]
    },
    {
     "name": "stderr",
     "output_type": "stream",
     "text": [
      " 47%|████▋     | 11716/25000 [56:30<1:03:37,  3.48it/s]"
     ]
    },
    {
     "name": "stdout",
     "output_type": "stream",
     "text": [
      "recognition failed\n"
     ]
    },
    {
     "name": "stderr",
     "output_type": "stream",
     "text": [
      " 57%|█████▋    | 14263/25000 [1:08:41<51:21,  3.48it/s]  "
     ]
    },
    {
     "name": "stdout",
     "output_type": "stream",
     "text": [
      "recognition failed\n"
     ]
    },
    {
     "name": "stderr",
     "output_type": "stream",
     "text": [
      " 64%|██████▍   | 16064/25000 [1:17:17<42:38,  3.49it/s]"
     ]
    },
    {
     "name": "stdout",
     "output_type": "stream",
     "text": [
      "recognition failed\n"
     ]
    },
    {
     "name": "stderr",
     "output_type": "stream",
     "text": [
      " 67%|██████▋   | 16742/25000 [1:20:32<39:23,  3.49it/s]"
     ]
    },
    {
     "name": "stdout",
     "output_type": "stream",
     "text": [
      "recognition failed\n"
     ]
    },
    {
     "name": "stderr",
     "output_type": "stream",
     "text": [
      " 69%|██████▊   | 17157/25000 [1:22:31<37:24,  3.49it/s]"
     ]
    },
    {
     "name": "stdout",
     "output_type": "stream",
     "text": [
      "recognition failed\n"
     ]
    },
    {
     "name": "stderr",
     "output_type": "stream",
     "text": [
      " 74%|███████▍  | 18514/25000 [1:28:59<30:53,  3.50it/s]"
     ]
    },
    {
     "name": "stdout",
     "output_type": "stream",
     "text": [
      "recognition failed\n"
     ]
    },
    {
     "name": "stderr",
     "output_type": "stream",
     "text": [
      " 77%|███████▋  | 19128/25000 [1:31:55<27:59,  3.50it/s]"
     ]
    },
    {
     "name": "stdout",
     "output_type": "stream",
     "text": [
      "recognition failed\n"
     ]
    },
    {
     "name": "stderr",
     "output_type": "stream",
     "text": [
      " 87%|████████▋ | 21698/25000 [1:44:11<15:42,  3.50it/s]"
     ]
    },
    {
     "name": "stdout",
     "output_type": "stream",
     "text": [
      "recognition failed\n"
     ]
    },
    {
     "name": "stderr",
     "output_type": "stream",
     "text": [
      " 87%|████████▋ | 21810/25000 [1:44:43<15:13,  3.49it/s]"
     ]
    },
    {
     "name": "stdout",
     "output_type": "stream",
     "text": [
      "recognition failed\n"
     ]
    },
    {
     "name": "stderr",
     "output_type": "stream",
     "text": [
      " 88%|████████▊ | 21940/25000 [1:45:20<14:31,  3.51it/s]"
     ]
    },
    {
     "name": "stdout",
     "output_type": "stream",
     "text": [
      "recognition failed\n"
     ]
    },
    {
     "name": "stderr",
     "output_type": "stream",
     "text": [
      " 88%|████████▊ | 21974/25000 [1:45:30<14:27,  3.49it/s]"
     ]
    },
    {
     "name": "stdout",
     "output_type": "stream",
     "text": [
      "recognition failed\n"
     ]
    },
    {
     "name": "stderr",
     "output_type": "stream",
     "text": [
      " 96%|█████████▌| 24049/25000 [1:55:23<04:31,  3.50it/s]"
     ]
    },
    {
     "name": "stdout",
     "output_type": "stream",
     "text": [
      "recognition failed\n"
     ]
    },
    {
     "name": "stderr",
     "output_type": "stream",
     "text": [
      " 98%|█████████▊| 24499/25000 [1:57:32<02:24,  3.46it/s]"
     ]
    },
    {
     "name": "stdout",
     "output_type": "stream",
     "text": [
      "recognition failed\n"
     ]
    },
    {
     "name": "stderr",
     "output_type": "stream",
     "text": [
      "100%|██████████| 25000/25000 [1:59:56<00:00,  3.47it/s]\n",
      "  3%|▎         | 872/25000 [04:10<1:55:11,  3.49it/s]"
     ]
    },
    {
     "name": "stdout",
     "output_type": "stream",
     "text": [
      "recognition failed\n"
     ]
    },
    {
     "name": "stderr",
     "output_type": "stream",
     "text": [
      "  6%|▌         | 1389/25000 [06:38<1:53:08,  3.48it/s]"
     ]
    },
    {
     "name": "stdout",
     "output_type": "stream",
     "text": [
      "recognition failed\n"
     ]
    },
    {
     "name": "stderr",
     "output_type": "stream",
     "text": [
      " 11%|█         | 2697/25000 [12:52<1:46:09,  3.50it/s]"
     ]
    },
    {
     "name": "stdout",
     "output_type": "stream",
     "text": [
      "recognition failed\n"
     ]
    },
    {
     "name": "stderr",
     "output_type": "stream",
     "text": [
      " 13%|█▎        | 3207/25000 [15:18<1:43:44,  3.50it/s]"
     ]
    },
    {
     "name": "stdout",
     "output_type": "stream",
     "text": [
      "recognition failed\n"
     ]
    },
    {
     "name": "stderr",
     "output_type": "stream",
     "text": [
      " 15%|█▍        | 3745/25000 [17:52<1:41:26,  3.49it/s]"
     ]
    },
    {
     "name": "stdout",
     "output_type": "stream",
     "text": [
      "recognition failed\n"
     ]
    },
    {
     "name": "stderr",
     "output_type": "stream",
     "text": [
      " 15%|█▌        | 3833/25000 [18:17<1:40:33,  3.51it/s]"
     ]
    },
    {
     "name": "stdout",
     "output_type": "stream",
     "text": [
      "recognition failed\n"
     ]
    },
    {
     "name": "stderr",
     "output_type": "stream",
     "text": [
      " 28%|██▊       | 7119/25000 [33:57<1:25:16,  3.50it/s]"
     ]
    },
    {
     "name": "stdout",
     "output_type": "stream",
     "text": [
      "recognition failed\n"
     ]
    },
    {
     "name": "stderr",
     "output_type": "stream",
     "text": [
      " 32%|███▏      | 8082/25000 [38:33<1:21:02,  3.48it/s]"
     ]
    },
    {
     "name": "stdout",
     "output_type": "stream",
     "text": [
      "recognition failed\n"
     ]
    },
    {
     "name": "stderr",
     "output_type": "stream",
     "text": [
      " 33%|███▎      | 8206/25000 [39:09<1:19:51,  3.51it/s]"
     ]
    },
    {
     "name": "stdout",
     "output_type": "stream",
     "text": [
      "recognition failed\n"
     ]
    },
    {
     "name": "stderr",
     "output_type": "stream",
     "text": [
      " 39%|███▉      | 9835/25000 [46:56<1:12:12,  3.50it/s]"
     ]
    },
    {
     "name": "stdout",
     "output_type": "stream",
     "text": [
      "recognition failed\n"
     ]
    },
    {
     "name": "stderr",
     "output_type": "stream",
     "text": [
      " 45%|████▌     | 11331/25000 [54:05<1:05:10,  3.50it/s]"
     ]
    },
    {
     "name": "stdout",
     "output_type": "stream",
     "text": [
      "recognition failed\n"
     ]
    },
    {
     "name": "stderr",
     "output_type": "stream",
     "text": [
      " 57%|█████▋    | 14333/25000 [1:08:25<50:44,  3.50it/s]"
     ]
    },
    {
     "name": "stdout",
     "output_type": "stream",
     "text": [
      "recognition failed\n"
     ]
    },
    {
     "name": "stderr",
     "output_type": "stream",
     "text": [
      " 61%|██████    | 15303/25000 [1:13:03<46:12,  3.50it/s]"
     ]
    },
    {
     "name": "stdout",
     "output_type": "stream",
     "text": [
      "recognition failed\n"
     ]
    },
    {
     "name": "stderr",
     "output_type": "stream",
     "text": [
      " 62%|██████▏   | 15570/25000 [1:14:19<44:49,  3.51it/s]"
     ]
    },
    {
     "name": "stdout",
     "output_type": "stream",
     "text": [
      "no minimum candidates exist\n",
      "recognition failed\n"
     ]
    },
    {
     "name": "stderr",
     "output_type": "stream",
     "text": [
      " 65%|██████▌   | 16334/25000 [1:17:58<41:06,  3.51it/s]"
     ]
    },
    {
     "name": "stdout",
     "output_type": "stream",
     "text": [
      "recognition failed\n"
     ]
    },
    {
     "name": "stderr",
     "output_type": "stream",
     "text": [
      " 65%|██████▌   | 16341/25000 [1:18:00<41:10,  3.50it/s]"
     ]
    },
    {
     "name": "stdout",
     "output_type": "stream",
     "text": [
      "recognition failed\n"
     ]
    },
    {
     "name": "stderr",
     "output_type": "stream",
     "text": [
      " 67%|██████▋   | 16658/25000 [1:19:31<39:46,  3.49it/s]"
     ]
    },
    {
     "name": "stdout",
     "output_type": "stream",
     "text": [
      "recognition failed\n"
     ]
    },
    {
     "name": "stderr",
     "output_type": "stream",
     "text": [
      " 69%|██████▉   | 17270/25000 [1:22:26<36:53,  3.49it/s]"
     ]
    },
    {
     "name": "stdout",
     "output_type": "stream",
     "text": [
      "recognition failed\n"
     ]
    },
    {
     "name": "stderr",
     "output_type": "stream",
     "text": [
      " 69%|██████▉   | 17337/25000 [1:22:45<36:30,  3.50it/s]"
     ]
    },
    {
     "name": "stdout",
     "output_type": "stream",
     "text": [
      "recognition failed\n"
     ]
    },
    {
     "name": "stderr",
     "output_type": "stream",
     "text": [
      " 71%|███████   | 17676/25000 [1:24:22<34:54,  3.50it/s]"
     ]
    },
    {
     "name": "stdout",
     "output_type": "stream",
     "text": [
      "recognition failed\n"
     ]
    },
    {
     "name": "stderr",
     "output_type": "stream",
     "text": [
      " 71%|███████▏  | 17862/25000 [1:25:15<34:08,  3.48it/s]"
     ]
    },
    {
     "name": "stdout",
     "output_type": "stream",
     "text": [
      "recognition failed\n"
     ]
    },
    {
     "name": "stderr",
     "output_type": "stream",
     "text": [
      " 73%|███████▎  | 18149/25000 [1:26:37<32:51,  3.48it/s]"
     ]
    },
    {
     "name": "stdout",
     "output_type": "stream",
     "text": [
      "recognition failed\n"
     ]
    },
    {
     "name": "stderr",
     "output_type": "stream",
     "text": [
      " 73%|███████▎  | 18329/25000 [1:27:29<32:00,  3.47it/s]"
     ]
    },
    {
     "name": "stdout",
     "output_type": "stream",
     "text": [
      "recognition failed\n"
     ]
    },
    {
     "name": "stderr",
     "output_type": "stream",
     "text": [
      "100%|██████████| 25000/25000 [1:59:18<00:00,  3.49it/s]\n",
      " 25%|██▍       | 6182/25000 [29:27<1:22:52,  3.78it/s]"
     ]
    },
    {
     "name": "stdout",
     "output_type": "stream",
     "text": [
      "recognition failed\n"
     ]
    },
    {
     "name": "stderr",
     "output_type": "stream",
     "text": [
      " 47%|████▋     | 11643/25000 [55:29<1:03:44,  3.49it/s]"
     ]
    },
    {
     "name": "stdout",
     "output_type": "stream",
     "text": [
      "recognition failed\n"
     ]
    },
    {
     "name": "stderr",
     "output_type": "stream",
     "text": [
      " 91%|█████████ | 22646/25000 [1:47:58<10:53,  3.60it/s]"
     ]
    },
    {
     "name": "stdout",
     "output_type": "stream",
     "text": [
      "recognition failed\n"
     ]
    },
    {
     "name": "stderr",
     "output_type": "stream",
     "text": [
      " 98%|█████████▊| 24504/25000 [1:56:50<02:21,  3.51it/s]"
     ]
    },
    {
     "name": "stdout",
     "output_type": "stream",
     "text": [
      "recognition failed\n"
     ]
    },
    {
     "name": "stderr",
     "output_type": "stream",
     "text": [
      "100%|██████████| 25000/25000 [1:59:12<00:00,  3.50it/s]\n",
      " 22%|██▏       | 5455/25000 [26:00<1:33:02,  3.50it/s]"
     ]
    },
    {
     "name": "stdout",
     "output_type": "stream",
     "text": [
      "recognition failed\n"
     ]
    },
    {
     "name": "stderr",
     "output_type": "stream",
     "text": [
      " 58%|█████▊    | 14608/25000 [1:09:39<47:48,  3.62it/s]"
     ]
    },
    {
     "name": "stdout",
     "output_type": "stream",
     "text": [
      "no minimum candidates exist\n",
      "recognition failed\n"
     ]
    },
    {
     "name": "stderr",
     "output_type": "stream",
     "text": [
      "100%|██████████| 25000/25000 [1:59:12<00:00,  3.50it/s]\n"
     ]
    }
   ],
   "source": [
    "from src.erdbeermet.simulation import load\n",
    "from src.erdbeermet.recognition import recognize, recognize_and_compare\n",
    "from tqdm import tqdm\n",
    "import pickle\n",
    "import os\n",
    "\n",
    "for mode in ['default', 'clock', 'circ', 'circ_clock']:\n",
    "    runtime = []\n",
    "    common_triple = []\n",
    "    failed_index = []\n",
    "    failed_tree = []\n",
    "    init_leaves_recovered = []\n",
    "\n",
    "    basepath = f'./simulations/N10/{mode}'\n",
    "\n",
    "    outdir = f'{basepath}/results/wp4'\n",
    "    if not os.path.isdir(outdir):\n",
    "        os.makedirs(outdir)\n",
    "\n",
    "    for r in tqdm(range(1,25000+1)):\n",
    "        scenario = load(f'{basepath}/hist_rep{r}.txt')\n",
    "        try:\n",
    "            return_val = recognize_and_compare(scenario, use_spikes=True, first_candidate_only=True, print_info=False)\n",
    "        except:\n",
    "            print(f'an error occured for {r}')\n",
    "            failed_index.append(r)\n",
    "            failed_tree.append(None)\n",
    "            continue\n",
    "        if len(return_val) == 2:\n",
    "            print('recognition failed')\n",
    "            recognition_tree, t = return_val\n",
    "            failed_index.append(r)\n",
    "            failed_tree.append(recognition_tree)\n",
    "        else:\n",
    "            recognition_tree, t, count, init_quad_recovered = return_val\n",
    "            runtime.append(t)\n",
    "            common_triple.append(count)\n",
    "            init_leaves_recovered.append(init_quad_recovered)\n",
    "\n",
    "    # dump the recognition results\n",
    "    pickle.dump(failed_index, open(f'{outdir}/failed_index', 'wb'))\n",
    "    pickle.dump(failed_tree, open(f'{outdir}/failed_tree', 'wb'))\n",
    "    pickle.dump(runtime, open(f'{outdir}/runtime', 'wb'))\n",
    "    pickle.dump(common_triple, open(f'{outdir}/common_triple', 'wb'))\n",
    "    pickle.dump(init_leaves_recovered, open(f'{outdir}/init_leaves_recovered', 'wb'))\n",
    "\n",
    "\n",
    "\n"
   ]
  }
 ],
 "metadata": {
  "interpreter": {
   "hash": "31f2aee4e71d21fbe5cf8b01ff0e069b9275f58929596ceb00d14d90e3e16cd6"
  },
  "kernelspec": {
   "display_name": "Python 3.8.2 64-bit",
   "language": "python",
   "name": "python3"
  },
  "language_info": {
   "codemirror_mode": {
    "name": "ipython",
    "version": 3
   },
   "file_extension": ".py",
   "mimetype": "text/x-python",
   "name": "python",
   "nbconvert_exporter": "python",
   "pygments_lexer": "ipython3",
   "version": "3.9.6"
  },
  "orig_nbformat": 4
 },
 "nbformat": 4,
 "nbformat_minor": 2
}
