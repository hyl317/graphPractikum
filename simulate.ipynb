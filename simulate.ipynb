{
 "cells": [
  {
   "cell_type": "markdown",
   "metadata": {},
   "source": [
    "# Simulate R-map with various sample size and (combinations of) circular/clocklike"
   ]
  },
  {
   "cell_type": "code",
   "execution_count": 1,
   "metadata": {},
   "outputs": [],
   "source": [
    "import os\n",
    "import sys\n",
    "sys.path.insert(0, \"/Users/hyl/Desktop/W21/project/Erdbeermet\")\n",
    "from src.erdbeermet.simulation import simulate"
   ]
  },
  {
   "cell_type": "code",
   "execution_count": 3,
   "metadata": {},
   "outputs": [],
   "source": [
    "numRep = 25000\n",
    "for n in [6, 10, 15, 20, 25]:\n",
    "    for i in range(1, 1+numRep):\n",
    "        \n",
    "        if not os.path.isdir(f'./simulations/N{n}/default'):\n",
    "            os.mkdir(f'./simulations/N{n}/default')\n",
    "\n",
    "        if not os.path.isdir(f'./simulations/N{n}/circ'):\n",
    "            os.mkdir(f'./simulations/N{n}/circ')\n",
    "        \n",
    "        if not os.path.isdir(f'./simulations/N{n}/clock'):\n",
    "            os.mkdir(f'./simulations/N{n}/clock')\n",
    "\n",
    "        if not os.path.isdir(f'./simulations/N{n}/circ_clock'):\n",
    "            os.mkdir(f'./simulations/N{n}/circ_clock')\n",
    "\n",
    "        scenario = simulate(n, branching_prob=0.0, circular=False, clocklike=False)\n",
    "        scenario.write_history(f'./simulations/N{n}/default/hist_rep{i}.txt')\n",
    "\n",
    "        scenario = simulate(n, branching_prob=0.0, circular=True, clocklike=False)\n",
    "        scenario.write_history(f'./simulations/N{n}/circ/hist_rep{i}.txt')\n",
    "\n",
    "        scenario = simulate(n, branching_prob=0.0, circular=False, clocklike=True)\n",
    "        scenario.write_history(f'./simulations/N{n}/clock/hist_rep{i}.txt')\n",
    "\n",
    "        scenario = simulate(n, branching_prob=0.0, circular=True, clocklike=True)\n",
    "        scenario.write_history(f'./simulations/N{n}/circ_clock/hist_rep{i}.txt')\n",
    "\n",
    "\n"
   ]
  },
  {
   "cell_type": "code",
   "execution_count": 2,
   "metadata": {},
   "outputs": [],
   "source": [
    "import multiprocessing as mp\n",
    "def multi_run(fun, prms, processes = 4, output=False):\n",
    "    \"\"\"Implementation of running in Parallel.\n",
    "    fun: Function\n",
    "    prms: The Parameter Files\n",
    "    processes: How many Processes to use\"\"\"\n",
    "    if output:\n",
    "        print(f\"Running {len(prms)} total jobs; {processes} in parallel.\")\n",
    "    \n",
    "    if len(prms)>1:\n",
    "        if output:\n",
    "            print(\"Starting Pool of multiple workers...\")    \n",
    "        with mp.Pool(processes = processes) as pool:\n",
    "            results = pool.starmap(fun, prms)\n",
    "    elif len(prms)==1:\n",
    "        if output:\n",
    "            print(\"Running single process...\")\n",
    "        results = fun(*prms[0])\n",
    "    else:\n",
    "        raise RuntimeWarning(\"Nothing to run! Please check input.\")\n",
    "    return results"
   ]
  },
  {
   "cell_type": "markdown",
   "metadata": {},
   "source": [
    "# WP2 Original Algorithm"
   ]
  },
  {
   "cell_type": "code",
   "execution_count": null,
   "metadata": {},
   "outputs": [],
   "source": [
    "from src.erdbeermet.simulation import load\n",
    "from src.erdbeermet.recognition import recognize, recognize_and_compare\n",
    "from tqdm import tqdm\n",
    "import pickle\n",
    "import os\n",
    "\n",
    "# prms = [[load(f'./simulations/N20/default/hist_rep{r}.txt').D, True, False] for r in range(1,51)]\n",
    "# multi_run(recognize, prms, processes=4)\n",
    "\n",
    "for mode in ['default', 'clock', 'circ', 'circ_clock']:\n",
    "    runtime = []\n",
    "    common_triple = []\n",
    "    failed_index = []\n",
    "    failed_tree = []\n",
    "    init_leaves_recovered = []\n",
    "\n",
    "    basepath = f'./simulations/N8/{mode}'\n",
    "\n",
    "    outdir = f'{basepath}/results/wp2'\n",
    "    if not os.path.isdir(outdir):\n",
    "        os.makedirs(outdir)\n",
    "\n",
    "    for r in tqdm(range(1,25000+1)):\n",
    "        scenario = load(f'{basepath}/hist_rep{r}.txt')\n",
    "        try:\n",
    "            return_val = recognize_and_compare(scenario, first_candidate_only=True, print_info=False)\n",
    "        except:\n",
    "            print(f'an error occured for {r}')\n",
    "            failed_index.append(r)\n",
    "            failed_tree.append(None)\n",
    "            continue\n",
    "        if len(return_val) == 2:\n",
    "            print('recognition failed')\n",
    "            recognition_tree, t = return_val\n",
    "            failed_index.append(r)\n",
    "            failed_tree.append(recognition_tree)\n",
    "        else:\n",
    "            recognition_tree, t, count, init_quad_recovered = return_val\n",
    "            runtime.append(t)\n",
    "            common_triple.append(count)\n",
    "            init_leaves_recovered.append(init_quad_recovered)\n",
    "\n",
    "    # dump the recognition results\n",
    "    pickle.dump(failed_index, open(f'{outdir}/failed_index', 'wb'))\n",
    "    pickle.dump(failed_tree, open(f'{outdir}/failed_tree', 'wb'))\n",
    "    pickle.dump(runtime, open(f'{outdir}/runtime', 'wb'))\n",
    "    pickle.dump(common_triple, open(f'{outdir}/common_triple', 'wb'))\n",
    "    pickle.dump(init_leaves_recovered, open(f'{outdir}/init_leaves_recovered', 'wb'))\n",
    "\n"
   ]
  },
  {
   "cell_type": "markdown",
   "metadata": {},
   "source": [
    "# WP3: Blocked Leaf"
   ]
  },
  {
   "cell_type": "code",
   "execution_count": 2,
   "metadata": {},
   "outputs": [
    {
     "name": "stderr",
     "output_type": "stream",
     "text": [
      "  6%|▌         | 59/1000 [12:05<7:42:27, 29.49s/it]"
     ]
    },
    {
     "name": "stdout",
     "output_type": "stream",
     "text": [
      "recognition failed\n"
     ]
    },
    {
     "name": "stderr",
     "output_type": "stream",
     "text": [
      "100%|██████████| 1000/1000 [3:04:32<00:00, 11.07s/it] \n",
      "100%|██████████| 1000/1000 [3:06:58<00:00, 11.22s/it] \n",
      "100%|██████████| 1000/1000 [1:31:16<00:00,  5.48s/it] \n",
      "100%|██████████| 1000/1000 [1:31:43<00:00,  5.50s/it] \n"
     ]
    }
   ],
   "source": [
    "from src.erdbeermet.simulation import load\n",
    "from src.erdbeermet.recognition import recognize, recognize_and_compare\n",
    "from tqdm import tqdm\n",
    "import pickle\n",
    "import os\n",
    "\n",
    "# prms = [[load(f'./simulations/N20/default/hist_rep{r}.txt').D, True, False] for r in range(1,51)]\n",
    "# multi_run(recognize, prms, processes=4)\n",
    "\n",
    "for mode in ['default', 'clock', 'circ', 'circ_clock']:\n",
    "    runtime = []\n",
    "    common_triple = []\n",
    "    failed_index = []\n",
    "    failed_tree = []\n",
    "    init_leaves_recovered = []\n",
    "\n",
    "    basepath = f'./simulations/N10/{mode}'\n",
    "\n",
    "    outdir = f'{basepath}/results/WP3.2_4leaves'\n",
    "    if not os.path.isdir(outdir):\n",
    "        os.makedirs(outdir)\n",
    "\n",
    "    for r in tqdm(range(1,1000+1)):\n",
    "        scenario = load(f'{basepath}/hist_rep{r}.txt')\n",
    "        try:\n",
    "            return_val = recognize_and_compare(scenario, use_unknown_core_leaves=4, first_candidate_only=True, print_info=False)\n",
    "        except:\n",
    "            print(f'an error occured for {r}')\n",
    "            failed_index.append(r)\n",
    "            failed_tree.append(None)\n",
    "            continue\n",
    "        if len(return_val) == 2:\n",
    "            print('recognition failed')\n",
    "            recognition_tree, t = return_val\n",
    "            failed_index.append(r)\n",
    "            failed_tree.append(recognition_tree)\n",
    "        else:\n",
    "            recognition_tree, t, count, init_quad_recovered = return_val\n",
    "            runtime.append(t)\n",
    "            common_triple.append(count)\n",
    "            init_leaves_recovered.append(init_quad_recovered)\n",
    "\n",
    "    # dump the recognition results\n",
    "    pickle.dump(failed_index, open(f'{outdir}/failed_index', 'wb'))\n",
    "    pickle.dump(failed_tree, open(f'{outdir}/failed_tree', 'wb'))\n",
    "    pickle.dump(runtime, open(f'{outdir}/runtime', 'wb'))\n",
    "    pickle.dump(common_triple, open(f'{outdir}/common_triple', 'wb'))\n",
    "    pickle.dump(init_leaves_recovered, open(f'{outdir}/init_leaves_recovered', 'wb'))\n",
    "\n",
    "\n",
    "\n",
    "\n",
    "\n",
    "\n"
   ]
  },
  {
   "cell_type": "markdown",
   "metadata": {},
   "source": [
    "# WP4: Smallest Spike"
   ]
  },
  {
   "cell_type": "code",
   "execution_count": null,
   "metadata": {},
   "outputs": [],
   "source": [
    "from src.erdbeermet.simulation import load\n",
    "from src.erdbeermet.recognition import recognize, recognize_and_compare\n",
    "from tqdm import tqdm\n",
    "import pickle\n",
    "import os\n",
    "\n",
    "for mode in ['default', 'clock', 'circ', 'circ_clock']:\n",
    "    runtime = []\n",
    "    common_triple = []\n",
    "    failed_index = []\n",
    "    failed_tree = []\n",
    "    init_leaves_recovered = []\n",
    "\n",
    "    basepath = f'./simulations/N10/{mode}'\n",
    "\n",
    "    outdir = f'{basepath}/results/wp4'\n",
    "    if not os.path.isdir(outdir):\n",
    "        os.makedirs(outdir)\n",
    "\n",
    "    for r in tqdm(range(1,25000+1)):\n",
    "        scenario = load(f'{basepath}/hist_rep{r}.txt')\n",
    "        try:\n",
    "            return_val = recognize_and_compare(scenario, use_spikes=True, first_candidate_only=True, print_info=False)\n",
    "        except:\n",
    "            print(f'an error occured for {r}')\n",
    "            failed_index.append(r)\n",
    "            failed_tree.append(None)\n",
    "            continue\n",
    "        if len(return_val) == 2:\n",
    "            print('recognition failed')\n",
    "            recognition_tree, t = return_val\n",
    "            failed_index.append(r)\n",
    "            failed_tree.append(recognition_tree)\n",
    "        else:\n",
    "            recognition_tree, t, count, init_quad_recovered = return_val\n",
    "            runtime.append(t)\n",
    "            common_triple.append(count)\n",
    "            init_leaves_recovered.append(init_quad_recovered)\n",
    "\n",
    "    # dump the recognition results\n",
    "    pickle.dump(failed_index, open(f'{outdir}/failed_index', 'wb'))\n",
    "    pickle.dump(failed_tree, open(f'{outdir}/failed_tree', 'wb'))\n",
    "    pickle.dump(runtime, open(f'{outdir}/runtime', 'wb'))\n",
    "    pickle.dump(common_triple, open(f'{outdir}/common_triple', 'wb'))\n",
    "    pickle.dump(init_leaves_recovered, open(f'{outdir}/init_leaves_recovered', 'wb'))\n",
    "\n",
    "\n",
    "\n"
   ]
  }
 ],
 "metadata": {
  "interpreter": {
   "hash": "31f2aee4e71d21fbe5cf8b01ff0e069b9275f58929596ceb00d14d90e3e16cd6"
  },
  "kernelspec": {
   "display_name": "Python 3.8.2 64-bit",
   "language": "python",
   "name": "python3"
  },
  "language_info": {
   "codemirror_mode": {
    "name": "ipython",
    "version": 3
   },
   "file_extension": ".py",
   "mimetype": "text/x-python",
   "name": "python",
   "nbconvert_exporter": "python",
   "pygments_lexer": "ipython3",
   "version": "3.9.6"
  },
  "orig_nbformat": 4
 },
 "nbformat": 4,
 "nbformat_minor": 2
}
