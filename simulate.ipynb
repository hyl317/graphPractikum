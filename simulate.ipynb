{
 "cells": [
  {
   "cell_type": "markdown",
   "metadata": {},
   "source": [
    "# Simulate R-map with various sample size and (combinations of) circular/clocklike"
   ]
  },
  {
   "cell_type": "code",
   "execution_count": 1,
   "metadata": {},
   "outputs": [],
   "source": [
    "from src.erdbeermet.simulation import simulate\n",
    "import os"
   ]
  },
  {
   "cell_type": "code",
   "execution_count": 3,
   "metadata": {},
   "outputs": [],
   "source": [
    "numRep = 25000\n",
    "for n in [6, 10, 15, 20, 25]:\n",
    "    for i in range(1, 1+numRep):\n",
    "        \n",
    "        if not os.path.isdir(f'./simulations/N{n}/default'):\n",
    "            os.mkdir(f'./simulations/N{n}/default')\n",
    "\n",
    "        if not os.path.isdir(f'./simulations/N{n}/circ'):\n",
    "            os.mkdir(f'./simulations/N{n}/circ')\n",
    "        \n",
    "        if not os.path.isdir(f'./simulations/N{n}/clock'):\n",
    "            os.mkdir(f'./simulations/N{n}/clock')\n",
    "\n",
    "        if not os.path.isdir(f'./simulations/N{n}/circ_clock'):\n",
    "            os.mkdir(f'./simulations/N{n}/circ_clock')\n",
    "\n",
    "        scenario = simulate(n, branching_prob=0.0, circular=False, clocklike=False)\n",
    "        scenario.write_history(f'./simulations/N{n}/default/hist_rep{i}.txt')\n",
    "\n",
    "        scenario = simulate(n, branching_prob=0.0, circular=True, clocklike=False)\n",
    "        scenario.write_history(f'./simulations/N{n}/circ/hist_rep{i}.txt')\n",
    "\n",
    "        scenario = simulate(n, branching_prob=0.0, circular=False, clocklike=True)\n",
    "        scenario.write_history(f'./simulations/N{n}/clock/hist_rep{i}.txt')\n",
    "\n",
    "        scenario = simulate(n, branching_prob=0.0, circular=True, clocklike=True)\n",
    "        scenario.write_history(f'./simulations/N{n}/circ_clock/hist_rep{i}.txt')\n",
    "\n",
    "\n"
   ]
  },
  {
   "cell_type": "code",
   "execution_count": 2,
   "metadata": {},
   "outputs": [],
   "source": [
    "import multiprocessing as mp\n",
    "def multi_run(fun, prms, processes = 4, output=False):\n",
    "    \"\"\"Implementation of running in Parallel.\n",
    "    fun: Function\n",
    "    prms: The Parameter Files\n",
    "    processes: How many Processes to use\"\"\"\n",
    "    if output:\n",
    "        print(f\"Running {len(prms)} total jobs; {processes} in parallel.\")\n",
    "    \n",
    "    if len(prms)>1:\n",
    "        if output:\n",
    "            print(\"Starting Pool of multiple workers...\")    \n",
    "        with mp.Pool(processes = processes) as pool:\n",
    "            results = pool.starmap(fun, prms)\n",
    "    elif len(prms)==1:\n",
    "        if output:\n",
    "            print(\"Running single process...\")\n",
    "        results = fun(*prms[0])\n",
    "    else:\n",
    "        raise RuntimeWarning(\"Nothing to run! Please check input.\")\n",
    "    return results"
   ]
  },
  {
   "cell_type": "code",
   "execution_count": 2,
   "metadata": {},
   "outputs": [
    {
     "name": "stderr",
     "output_type": "stream",
     "text": [
      "100%|██████████| 1/1 [00:00<00:00,  3.39it/s]"
     ]
    },
    {
     "name": "stdout",
     "output_type": "stream",
     "text": [
      "[(0, 7, 9, 0.026595445448206634), (5, 6, 8, 0.9977359376105442), (5, 6, 7, 0.3541694896073611), (3, 5, 6, 0.774516890800896), (0, 1, 5, 0.0015728473472632826), (0, 2, 1, 0.8852570015608169)]\n",
      "[(0, 0: 1) 1.000, (0, 1: 2) 0.645, (2, 0: 3) 0.854, (2, 3: 4) 0.039, (1, 0: 5) 0.998, (3, 5: 6) 0.775, (6, 5: 7) 0.646, (5, 6: 8) 0.998, (0, 7: 9) 0.027]\n",
      "number of common triples: 0\n",
      "final quadruple: [0, 2, 3, 4]\n",
      "init_quad_recovered: False\n"
     ]
    },
    {
     "name": "stderr",
     "output_type": "stream",
     "text": [
      "\n"
     ]
    }
   ],
   "source": [
    "from src.erdbeermet.simulation import load\n",
    "from erdbeermet.recognition import recognize, recognize_and_compare\n",
    "from tqdm import tqdm\n",
    "\n",
    "# prms = [[load(f'./simulations/N20/default/hist_rep{r}.txt').D, True, False] for r in range(1,51)]\n",
    "# multi_run(recognize, prms, processes=4)\n",
    "\n",
    "for r in tqdm(range(1,2)):\n",
    "    #print(f'running replicate {r}')\n",
    "    scenario = load(f'./simulations/N10/default/hist_rep{r}.txt')\n",
    "    #recognition_tree = recognize(scenario.D, first_candidate_only=True, print_info=False)\n",
    "\n",
    "    recognition_tree = recognize_and_compare(scenario, first_candidate_only=True, print_info=False)\n",
    "\n",
    "\n"
   ]
  }
 ],
 "metadata": {
  "interpreter": {
   "hash": "31f2aee4e71d21fbe5cf8b01ff0e069b9275f58929596ceb00d14d90e3e16cd6"
  },
  "kernelspec": {
   "display_name": "Python 3.8.2 64-bit",
   "language": "python",
   "name": "python3"
  },
  "language_info": {
   "codemirror_mode": {
    "name": "ipython",
    "version": 3
   },
   "file_extension": ".py",
   "mimetype": "text/x-python",
   "name": "python",
   "nbconvert_exporter": "python",
   "pygments_lexer": "ipython3",
   "version": "3.9.6"
  },
  "orig_nbformat": 4
 },
 "nbformat": 4,
 "nbformat_minor": 2
}
